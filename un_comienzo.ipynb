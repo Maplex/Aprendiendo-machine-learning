{
  "nbformat": 4,
  "nbformat_minor": 0,
  "metadata": {
    "colab": {
      "name": "Un comienzo.ipynb",
      "version": "0.3.2",
      "provenance": []
    },
    "kernelspec": {
      "name": "python3",
      "display_name": "Python 3"
    }
  },
  "cells": [
    {
      "cell_type": "code",
      "metadata": {
        "id": "Xrc_d6hc64oa",
        "colab_type": "code",
        "colab": {}
      },
      "source": [
        "import numpy as np\n",
        "import scipy as sc\n",
        "import matplotlib.pyplot as plt\n",
        "\n",
        "from sklearn.datasets import make_circles"
      ],
      "execution_count": 0,
      "outputs": []
    },
    {
      "cell_type": "markdown",
      "metadata": {
        "id": "iiH-4DqR9cc7",
        "colab_type": "text"
      },
      "source": [
        "# Crear el dataset"
      ]
    },
    {
      "cell_type": "code",
      "metadata": {
        "id": "HFpP2XAS7fe9",
        "colab_type": "code",
        "colab": {
          "base_uri": "https://localhost:8080/",
          "height": 269
        },
        "outputId": "78630c34-2c4c-417b-b252-035de0cf770e"
      },
      "source": [
        "n = 500\n",
        "p = 2\n",
        "\n",
        "x, y = make_circles(n_samples = n, factor = 0.5, noise = 0.05)\n",
        "\n",
        "y = y[:, np.newaxis]\n",
        "\n",
        "plt.scatter(x[y[:,0] == 0, 0], x[y[:,0] == 0, 1], c=\"skyblue\")\n",
        "plt.scatter(x[y[:,0] == 1, 0], x[y[:,0] == 1, 1], c=\"salmon\")\n",
        "plt.axis(\"equal\")\n",
        "\n",
        "plt.show()"
      ],
      "execution_count": 52,
      "outputs": [
        {
          "output_type": "display_data",
          "data": {
            "image/png": "[encoded data removed]",
            "text/plain": [
              "<Figure size 432x288 with 1 Axes>"
            ]
          },
          "metadata": {
            "tags": []
          }
        }
      ]
    },
    {
      "cell_type": "code",
      "metadata": {
        "id": "8ob9Hpk0JlOR",
        "colab_type": "code",
        "colab": {
          "base_uri": "https://localhost:8080/",
          "height": 34
        },
        "outputId": "d59bcf8f-99d3-48eb-9ff7-ac79c5639fa9"
      },
      "source": [
        ""
      ],
      "execution_count": 50,
      "outputs": [
        {
          "output_type": "execute_result",
          "data": {
            "text/plain": [
              "(500,)"
            ]
          },
          "metadata": {
            "tags": []
          },
          "execution_count": 50
        }
      ]
    },
    {
      "cell_type": "markdown",
      "metadata": {
        "id": "RMiEdZaD-kWZ",
        "colab_type": "text"
      },
      "source": [
        "# Clase de la capa de la red"
      ]
    },
    {
      "cell_type": "code",
      "metadata": {
        "id": "Ug8JGsue9nnq",
        "colab_type": "code",
        "colab": {}
      },
      "source": [
        "class neural_layer():\n",
        "  \n",
        "  def __init__(self, n_conn, n_neur, act_f):\n",
        "  \n",
        "    self.act_f = act_f\n",
        "    \n",
        "    self.b = np.random.rand(1, n_neur) * 2 -1\n",
        "    self.w = np.random.rand(n_conn, n_neur) * 2 -1"
      ],
      "execution_count": 0,
      "outputs": []
    },
    {
      "cell_type": "markdown",
      "metadata": {
        "id": "jKRagDEB-nzV",
        "colab_type": "text"
      },
      "source": [
        "# Funcion de activación"
      ]
    },
    {
      "cell_type": "code",
      "metadata": {
        "id": "8nTdetbR-iIO",
        "colab_type": "code",
        "colab": {
          "base_uri": "https://localhost:8080/",
          "height": 286
        },
        "outputId": "c3d61ccd-f7ea-4b66-f72b-d6cd1c28cac2"
      },
      "source": [
        "#Funcion de activacion\n",
        "sigm = (lambda x: 1 / (1 + np.e ** (-x)),\n",
        "        lambda x: x * (1 -x))\n",
        "\n",
        "relu = lambda x: np.maximum(0, x)\n",
        "\n",
        "_x = np.linspace(-5, 5, 100)\n",
        "\n",
        "# plt.plot(_x, relu(_x))\n",
        "plt.plot(_x, sigm[0](_x))"
      ],
      "execution_count": 36,
      "outputs": [
        {
          "output_type": "execute_result",
          "data": {
            "text/plain": [
              "[<matplotlib.lines.Line2D at 0x7fe3ee938b00>]"
            ]
          },
          "metadata": {
            "tags": []
          },
          "execution_count": 36
        },
        {
          "output_type": "display_data",
          "data": {
            "image/png": "[encoded data removed]",
            "text/plain": [
              "<Figure size 432x288 with 1 Axes>"
            ]
          },
          "metadata": {
            "tags": []
          }
        }
      ]
    },
    {
      "cell_type": "code",
      "metadata": {
        "id": "-KsQDEPn_5pC",
        "colab_type": "code",
        "colab": {}
      },
      "source": [
        "# l0 = neural_layer(p, 4, sigm)\n",
        "# l1 = neural_layer(4, 8, sigm)\n",
        "# ...\n",
        "\n",
        "def create_nn(topology, act_f):\n",
        "  \n",
        "  nn = []\n",
        "  \n",
        "  for l, layer in enumerate(topology[:-1]):\n",
        "    \n",
        "    nn.append(neural_layer(topology[l], topology[l+1], act_f))\n",
        "    \n",
        "  return nn"
      ],
      "execution_count": 0,
      "outputs": []
    },
    {
      "cell_type": "code",
      "metadata": {
        "id": "xOPGB_dyBLtT",
        "colab_type": "code",
        "colab": {}
      },
      "source": [
        "topology = [p, 4, 8, 1]\n",
        "neural_net = create_nn(topology, sigm)"
      ],
      "execution_count": 0,
      "outputs": []
    },
    {
      "cell_type": "code",
      "metadata": {
        "id": "7LFbCEqkBbpn",
        "colab_type": "code",
        "colab": {}
      },
      "source": [
        "# Coste\n",
        "l2_cost = (lambda Yp, Yr: np.mean((Yp - Yr) ** 2),\n",
        "           lambda Yp, Yr: (Yp - Yr))\n",
        "\n",
        "# Entrenamiento\n",
        "def train(neural_net, x, y, l2_cost, lr = 0.5, train = True):\n",
        "  \n",
        "  out = [(None, x)]\n",
        "  \n",
        "  # Forward pass\n",
        "  \n",
        "  for l, layer in enumerate(neural_net):\n",
        "    \n",
        "    z = out[-1][1] @ neural_net[l].w + neural_net[l].b\n",
        "    a = neural_net[l].act_f[0](z)\n",
        "    \n",
        "    out.append((z, a))\n",
        "    \n",
        "  print(l2_cost[0](out[-1][1], y))\n",
        "  \n",
        "  if train:\n",
        "    \n",
        "    # Backward pass\n",
        "    \n",
        "    deltas = []\n",
        "    \n",
        "    for l in reversed(range(0, len(neural_net))):\n",
        "      \n",
        "      z = out[l+1][0]\n",
        "      a = out[l+1][1]\n",
        "      \n",
        "      if l == len(neural_net) - 1:\n",
        "        # Calcular delta ultima capa.\n",
        "        deltas.insert(0, l2_cost[1](a, y) * neural_net[l].act_f[1](a))\n",
        "      else:\n",
        "        # Calcular delta respecto a capa previa.\n",
        "        deltas.insert(0, deltas[0] @ _w.T * neural_net[l].act_f[1](a))\n",
        "        \n",
        "      _w = neural_net[l].w\n",
        "      \n",
        "      # Gradient descent\n",
        "      neural_net[l].b = neural_net[l].b - np.mean(deltas[0], axis = 0, keepdims = True) * lr\n",
        "      neural_net[l].w = neural_net[l].w - out[l][1].T @ deltas[0] * lr \n",
        "\n",
        "  return out[-1][1]"
      ],
      "execution_count": 0,
      "outputs": []
    },
    {
      "cell_type": "code",
      "metadata": {
        "id": "Q3CoHHgrLVRQ",
        "colab_type": "code",
        "colab": {
          "base_uri": "https://localhost:8080/",
          "height": 929
        },
        "outputId": "f6a4c09f-51fa-4a7c-d215-2a8400da6ae6"
      },
      "source": [
        "import time\n",
        "from IPython.display import clear_output\n",
        "\n",
        "neural_n = create_nn(topology, sigm)\n",
        "\n",
        "loss = []\n",
        "\n",
        "for i in range(2500):\n",
        "    \n",
        "  # Entrenemos a la red!\n",
        "  pY = train(neural_n, x, y, l2_cost, lr=0.05)\n",
        "  \n",
        "  if i % 25 == 0:\n",
        "    \n",
        "    print(pY)\n",
        "  \n",
        "    loss.append(l2_cost[0](pY, y))\n",
        "  \n",
        "    res = 50\n",
        "\n",
        "    _x0 = np.linspace(-1.5, 1.5, res)\n",
        "    _x1 = np.linspace(-1.5, 1.5, res)\n",
        "\n",
        "    _Y = np.zeros((res, res))\n",
        "\n",
        "    for i0, x0 in enumerate(_x0):\n",
        "      for i1, x1 in enumerate(_x1):\n",
        "        _Y[i0, i1] = train(neural_n, np.array([[x0, x1]]), y, l2_cost, train=False)[0][0]    \n",
        "\n",
        "    plt.pcolormesh(_x0, _x1, _Y, cmap=\"coolwarm\")\n",
        "    plt.axis(\"equal\")\n",
        "\n",
        "    plt.scatter(x[y[:,0] == 0, 0], x[y[:,0] == 0, 1], c=\"skyblue\")\n",
        "    plt.scatter(x[y[:,0] == 1, 0], x[y[:,0] == 1, 1], c=\"salmon\")\n",
        "\n",
        "    clear_output(wait=True)\n",
        "    plt.show()\n",
        "    plt.plot(range(len(loss)), loss)\n",
        "    plt.show()\n",
        "    time.sleep(0.5)  "
      ],
      "execution_count": 70,
      "outputs": [
        {
          "output_type": "display_data",
          "data": {
            "image/png": "[encoded data removed]",
            "text/plain": [
              "<Figure size 432x288 with 1 Axes>"
            ]
          },
          "metadata": {
            "tags": []
          }
        },
        {
          "output_type": "display_data",
          "data": {
            "image/png": "[encoded data removed]",
            "text/plain": [
              "<Figure size 432x288 with 1 Axes>"
            ]
          },
          "metadata": {
            "tags": []
          }
        },
        {
          "output_type": "stream",
          "text": [
            "0.0011638963976430602\n",
            "0.0011630490592484332\n",
            "0.0011622029412579533\n",
            "0.001161358041041666\n",
            "0.0011605143559771643\n",
            "0.0011596718834495574\n",
            "0.0011588306208514553\n",
            "0.0011579905655829297\n",
            "0.0011571517150514932\n",
            "0.0011563140666720714\n",
            "0.0011554776178669766\n",
            "0.0011546423660658838\n",
            "0.0011538083087057976\n",
            "0.0011529754432310357\n",
            "0.0011521437670931945\n",
            "0.0011513132777511267\n",
            "0.0011504839726709153\n",
            "0.0011496558493258484\n",
            "0.0011488289051963954\n",
            "0.0011480031377701727\n",
            "0.0011471785445419285\n",
            "0.0011463551230135138\n",
            "0.0011455328706938567\n",
            "0.0011447117850989388\n"
          ],
          "name": "stdout"
        }
      ]
    },
    {
      "cell_type": "markdown",
      "metadata": {
        "id": "s19dVYpXA-rV",
        "colab_type": "text"
      },
      "source": [
        ""
      ]
    }
  ]
}